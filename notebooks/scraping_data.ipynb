{
 "cells": [
  {
   "cell_type": "code",
   "execution_count": null,
   "metadata": {},
   "outputs": [],
   "source": [
    "from bs4 import BeautifulSoup\n",
    "import requests\n",
    "import json\n",
    "from bs4.element import Doctype, NavigableString\n"
   ]
  },
  {
   "cell_type": "code",
   "execution_count": null,
   "metadata": {},
   "outputs": [],
   "source": [
    "def html_to_json(tag):\n",
    "    if not tag:\n",
    "        return None\n",
    "    if isinstance(tag, slice):\n",
    "        return {\n",
    "            \n",
    "        }\n",
    "    if isinstance(tag, Doctype):\n",
    "        return {\n",
    "            \"type\": \"doctype\",\n",
    "            \"name\": tag.name,\n",
    "        }\n",
    "    if isinstance(tag, NavigableString):\n",
    "        return str(tag)\n",
    "    return {\n",
    "        \"tag\": tag.name,\n",
    "        \"attrs\": dict(tag.attrs),\n",
    "        \"text\": tag.string,\n",
    "        \"children\": [html_to_json(child) for child in tag.children]\n",
    "    }"
   ]
  },
  {
   "cell_type": "markdown",
   "metadata": {},
   "source": [
    "# Accepting Job Title from user"
   ]
  },
  {
   "cell_type": "code",
   "execution_count": null,
   "metadata": {},
   "outputs": [],
   "source": [
    "# job = 'Data Analyst'\n",
    "job = 'Quality Analyst'\n",
    "#TODO figure out the filter for location\n",
    "url =f'https://www.linkedin.com/jobs/{job}-jobs?keywords=Qa%20Tester&location=United%20States&geoId=103644278&f_TPR=r604800&position=1&pageNum=0'\n",
    "\n",
    "\n",
    "response = requests.get(url)\n",
    "html_content = response.text\n",
    "soup = BeautifulSoup(html_content, 'html.parser')\n",
    "soup"
   ]
  },
  {
   "cell_type": "code",
   "execution_count": null,
   "metadata": {},
   "outputs": [],
   "source": [
    "json_content = json.dumps(html_to_json(soup), indent=4)"
   ]
  }
 ],
 "metadata": {
  "language_info": {
   "name": "python"
  }
 },
 "nbformat": 4,
 "nbformat_minor": 2
}
